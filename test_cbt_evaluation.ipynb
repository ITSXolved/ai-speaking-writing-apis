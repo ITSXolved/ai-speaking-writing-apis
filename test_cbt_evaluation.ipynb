{
 "cells": [
  {
   "cell_type": "markdown",
   "metadata": {},
   "source": [
    "# CBT Evaluation Endpoint Testing\n",
    "\n",
    "This notebook tests the CBT (Cognitive Behavioral Therapy) evaluation endpoint that evaluates language learning questions and provides therapeutic suggestions."
   ]
  },
  {
   "cell_type": "code",
   "execution_count": 3,
   "metadata": {},
   "outputs": [],
   "source": [
    "import requests\n",
    "import json\n",
    "from datetime import datetime\n",
    "\n",
    "# Base URL - adjust if needed\n",
    "BASE_URL = \"http://localhost:8080\"\n",
    "\n",
    "def print_response(response):\n",
    "    \"\"\"Pretty print the response\"\"\"\n",
    "    print(f\"Status Code: {response.status_code}\\n\")\n",
    "    print(json.dumps(response.json(), indent=2, default=str))"
   ]
  },
  {
   "cell_type": "markdown",
   "metadata": {},
   "source": [
    "## 1. Health Check"
   ]
  },
  {
   "cell_type": "code",
   "execution_count": 4,
   "metadata": {},
   "outputs": [
    {
     "name": "stdout",
     "output_type": "stream",
     "text": [
      "Status Code: 200\n",
      "\n",
      "{\n",
      "  \"status\": \"healthy\",\n",
      "  \"service\": \"CBT Evaluation Service\",\n",
      "  \"supported_skills\": [\n",
      "    \"speaking\",\n",
      "    \"writing\",\n",
      "    \"listening\",\n",
      "    \"reading\",\n",
      "    \"grammar\"\n",
      "  ]\n",
      "}\n"
     ]
    }
   ],
   "source": [
    "response = requests.get(f\"{BASE_URL}/api/cbt-evaluation/health\")\n",
    "print_response(response)"
   ]
  },
  {
   "cell_type": "markdown",
   "metadata": {},
   "source": [
    "## 2. Speaking Evaluation Test"
   ]
  },
  {
   "cell_type": "code",
   "execution_count": 14,
   "metadata": {},
   "outputs": [
    {
     "name": "stdout",
     "output_type": "stream",
     "text": [
      "Status Code: 200\n",
      "\n",
      "{\n",
      "  \"skill_type\": \"speaking\",\n",
      "  \"cbt_suggestion\": \"It's wonderful that you communicated your routine so clearly; remember that every word you speak is a success, and it's perfectly normal to build detail and fluency over time as you celebrate each step in your language journey.\",\n",
      "  \"confidence_score\": 0.9,\n",
      "  \"timestamp\": \"2025-10-27T06:01:13.102865\"\n",
      "}\n"
     ]
    }
   ],
   "source": [
    "payload = {\n",
    "    \"question\": \"Tell me about your daily routine\",\n",
    "    \"answer\": \"I wake up at 7 AM every morning. Then I eat breakfast and go to work. After work I play guitar.\",\n",
    "    \"skill_type\": \"speaking\",\n",
    "    \"user_id\": \"test_user_1\"\n",
    "}\n",
    "\n",
    "response = requests.post(f\"{BASE_URL}/api/cbt-evaluation/evaluate\", json=payload)\n",
    "print_response(response)"
   ]
  },
  {
   "cell_type": "markdown",
   "metadata": {},
   "source": [
    "## 3. Writing Evaluation Test"
   ]
  },
  {
   "cell_type": "code",
   "execution_count": 15,
   "metadata": {},
   "outputs": [
    {
     "name": "stdout",
     "output_type": "stream",
     "text": [
      "Status Code: 200\n",
      "\n",
      "{\n",
      "  \"skill_type\": \"writing\",\n",
      "  \"cbt_suggestion\": \"See every sentence you write, including its minor adjustments, as valuable data showing your growing understanding and effort, proving you're actively building your language skills one thoughtful step at a time.\",\n",
      "  \"confidence_score\": 0.95,\n",
      "  \"timestamp\": \"2025-10-27T06:01:35.078346\"\n",
      "}\n"
     ]
    }
   ],
   "source": [
    "payload = {\n",
    "    \"question\": \"Write a short paragraph about your favorite season and why you like it.\",\n",
    "    \"answer\": \"My favorite season is autumn. I love the colorful leafs and cool weather. Its perfect for walking in the park and drinking hot coffee. The autumn make me feel peaceful.\",\n",
    "    \"skill_type\": \"writing\",\n",
    "    \"user_id\": \"test_user_2\"\n",
    "}\n",
    "\n",
    "response = requests.post(f\"{BASE_URL}/api/cbt-evaluation/evaluate\", json=payload)\n",
    "print_response(response)"
   ]
  },
  {
   "cell_type": "markdown",
   "metadata": {},
   "source": [
    "## 4. Grammar Evaluation Test (Multiple Choice)"
   ]
  },
  {
   "cell_type": "code",
   "execution_count": 16,
   "metadata": {},
   "outputs": [
    {
     "name": "stdout",
     "output_type": "stream",
     "text": [
      "Status Code: 200\n",
      "\n",
      "{\n",
      "  \"skill_type\": \"grammar\",\n",
      "  \"cbt_suggestion\": \"Celebrate this success! Your accurate response shows your consistent effort is building strong connections in your mind, reminding you that your hard work truly pays off in developing language fluency.\",\n",
      "  \"confidence_score\": 1.0,\n",
      "  \"timestamp\": \"2025-10-27T06:01:55.583182\"\n",
      "}\n"
     ]
    }
   ],
   "source": [
    "payload = {\n",
    "    \"question\": \"Choose the correct form: Yesterday, I ___ to the store.\",\n",
    "    \"options\": [\"go\", \"goes\", \"went\", \"going\"],\n",
    "    \"answer\": \"went\",\n",
    "    \"skill_type\": \"grammar\",\n",
    "    \"user_id\": \"test_user_3\"\n",
    "}\n",
    "\n",
    "response = requests.post(f\"{BASE_URL}/api/cbt-evaluation/evaluate\", json=payload)\n",
    "print_response(response)"
   ]
  },
  {
   "cell_type": "markdown",
   "metadata": {},
   "source": [
    "## 5. Listening Evaluation Test"
   ]
  },
  {
   "cell_type": "code",
   "execution_count": 17,
   "metadata": {},
   "outputs": [
    {
     "name": "stdout",
     "output_type": "stream",
     "text": [
      "Status Code: 200\n",
      "\n",
      "{\n",
      "  \"skill_type\": \"listening\",\n",
      "  \"cbt_suggestion\": \"Fantastic work capturing the key information! Celebrate this successful comprehension as evidence of your progress, and remember that each listening practice strengthens your neural pathways for language acquisition.\",\n",
      "  \"confidence_score\": 1.0,\n",
      "  \"timestamp\": \"2025-10-27T06:02:12.657343\"\n",
      "}\n"
     ]
    }
   ],
   "source": [
    "payload = {\n",
    "    \"question\": \"Based on the audio clip about the weather forecast, what will the temperature be tomorrow?\",\n",
    "    \"answer\": \"The temperature will be 25 degrees celsius with sunny weather in the morning.\",\n",
    "    \"skill_type\": \"listening\",\n",
    "    \"user_id\": \"test_user_4\"\n",
    "}\n",
    "\n",
    "response = requests.post(f\"{BASE_URL}/api/cbt-evaluation/evaluate\", json=payload)\n",
    "print_response(response)"
   ]
  },
  {
   "cell_type": "markdown",
   "metadata": {},
   "source": [
    "## 6. Reading Evaluation Test"
   ]
  },
  {
   "cell_type": "code",
   "execution_count": 18,
   "metadata": {},
   "outputs": [
    {
     "name": "stdout",
     "output_type": "stream",
     "text": [
      "Status Code: 200\n",
      "\n",
      "{\n",
      "  \"skill_type\": \"reading\",\n",
      "  \"cbt_suggestion\": \"You've clearly identified the most important benefits, demonstrating strong comprehension! Remember that recognizing what you *did* well helps build confidence for future challenges, and every practice is a valuable step forward.\",\n",
      "  \"confidence_score\": 0.95,\n",
      "  \"timestamp\": \"2025-10-27T06:02:33.091884\"\n",
      "}\n"
     ]
    }
   ],
   "source": [
    "payload = {\n",
    "    \"question\": \"After reading the article about renewable energy, summarize the main benefits mentioned.\",\n",
    "    \"answer\": \"The article says renewable energy is good for environment because it reduces pollution. Also it creates new jobs and can save money in the long term. Solar and wind energy are becoming cheaper.\",\n",
    "    \"skill_type\": \"reading\",\n",
    "    \"user_id\": \"test_user_5\"\n",
    "}\n",
    "\n",
    "response = requests.post(f\"{BASE_URL}/api/cbt-evaluation/evaluate\", json=payload)\n",
    "print_response(response)"
   ]
  },
  {
   "cell_type": "markdown",
   "metadata": {},
   "source": [
    "## 7. Custom Test - Add Your Own\n",
    "\n",
    "Try your own question and answer:"
   ]
  },
  {
   "cell_type": "code",
   "execution_count": null,
   "metadata": {},
   "outputs": [],
   "source": [
    "# Customize this payload with your own test\n",
    "custom_payload = {\n",
    "    \"question\": \"Your question here\",\n",
    "    \"answer\": \"Your answer here\",\n",
    "    \"skill_type\": \"speaking\",  # Choose: speaking, writing, listening, reading, grammar\n",
    "    \"user_id\": \"custom_test_user\"\n",
    "}\n",
    "\n",
    "response = requests.post(f\"{BASE_URL}/api/cbt-evaluation/evaluate\", json=custom_payload)\n",
    "print_response(response)"
   ]
  },
  {
   "cell_type": "markdown",
   "metadata": {},
   "source": [
    "## 8. Error Test - Invalid Skill Type\n",
    "\n",
    "This should return a validation error:"
   ]
  },
  {
   "cell_type": "code",
   "execution_count": null,
   "metadata": {},
   "outputs": [],
   "source": [
    "payload = {\n",
    "    \"question\": \"Test question\",\n",
    "    \"answer\": \"Test answer\",\n",
    "    \"skill_type\": \"invalid_skill\"\n",
    "}\n",
    "\n",
    "response = requests.post(f\"{BASE_URL}/api/cbt-evaluation/evaluate\", json=payload)\n",
    "print_response(response)"
   ]
  }
 ],
 "metadata": {
  "kernelspec": {
   "display_name": ".venv",
   "language": "python",
   "name": "python3"
  },
  "language_info": {
   "codemirror_mode": {
    "name": "ipython",
    "version": 3
   },
   "file_extension": ".py",
   "mimetype": "text/x-python",
   "name": "python",
   "nbconvert_exporter": "python",
   "pygments_lexer": "ipython3",
   "version": "3.11.0"
  }
 },
 "nbformat": 4,
 "nbformat_minor": 4
}
