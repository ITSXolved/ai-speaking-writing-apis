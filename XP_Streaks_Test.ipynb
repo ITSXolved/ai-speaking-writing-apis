{
 "cells": [
  {
   "cell_type": "markdown",
   "metadata": {},
   "source": [
    "# XP & Streaks System Test\n",
    "## Testing Daily XP Calculation, Streaks, and Level Progression\n",
    "\n",
    "This notebook tests:\n",
    "1. **XP Calculation** - Various session scenarios with bonuses\n",
    "2. **Streak Management** - Daily streak updates and calendar\n",
    "3. **Level Progression** - XP to level conversion\n",
    "4. **Daily Goals** - Progress tracking\n",
    "5. **Perfect Day** - All 3 modalities completion bonus\n",
    "\n",
    "---"
   ]
  },
  {
   "cell_type": "markdown",
   "metadata": {},
   "source": [
    "## Setup & Configuration"
   ]
  },
  {
   "cell_type": "code",
   "execution_count": null,
   "metadata": {},
   "outputs": [],
   "source": [
    "import requests\n",
    "import json\n",
    "from datetime import datetime, timedelta, timezone, date\n",
    "from uuid import uuid4\n",
    "import random\n",
    "import pandas as pd\n",
    "import matplotlib.pyplot as plt\n",
    "import time\n",
    "\n",
    "# Configuration\n",
    "BASE_URL = \"http://localhost:8000/api/v1\"\n",
    "\n",
    "# Test user\n",
    "TEST_USER_ID = str(uuid4())  # Replace with actual user_id if testing existing user\n",
    "\n",
    "print(f\"🧪 XP & Streaks Test Configuration\")\n",
    "print(f\"Base URL: {BASE_URL}\")\n",
    "print(f\"Test User ID: {TEST_USER_ID}\")\n",
    "print(\"=\" * 60)"
   ]
  },
  {
   "cell_type": "markdown",
   "metadata": {},
   "source": [
    "## Helper Functions"
   ]
  },
  {
   "cell_type": "code",
   "execution_count": null,
   "metadata": {},
   "outputs": [],
   "source": [
    "def print_response(title: str, response: requests.Response):\n",
    "    \"\"\"Pretty print API response\"\"\"\n",
    "    print(f\"\\n{'='*60}\")\n",
    "    print(f\"📡 {title}\")\n",
    "    print(f\"Status: {response.status_code}\")\n",
    "    if response.status_code < 400:\n",
    "        data = response.json()\n",
    "        print(json.dumps(data, indent=2, default=str))\n",
    "        return data\n",
    "    else:\n",
    "        print(f\"❌ Error: {response.text}\")\n",
    "        return None\n",
    "    print(f\"{'='*60}\\n\")\n",
    "\n",
    "def create_session(modality, day_code, accuracy, duration_sec, expected_duration=900):\n",
    "    \"\"\"Helper to create and submit a session\"\"\"\n",
    "    # Start session\n",
    "    start_time = datetime.now(timezone.utc)\n",
    "    \n",
    "    if modality == \"listening\":\n",
    "        start_payload = {\n",
    "            \"user_id\": TEST_USER_ID,\n",
    "            \"day_code\": day_code,\n",
    "            \"audio_url\": f\"https://example.com/audio/{day_code}.mp3\",\n",
    "            \"started_at\": start_time.isoformat()\n",
    "        }\n",
    "        response = requests.post(f\"{BASE_URL}/listening/sessions\", json=start_payload)\n",
    "    else:\n",
    "        start_payload = {\n",
    "            \"user_id\": TEST_USER_ID,\n",
    "            \"modality\": modality,\n",
    "            \"day_code\": day_code,\n",
    "            \"started_at\": start_time.isoformat()\n",
    "        }\n",
    "        response = requests.post(f\"{BASE_URL}/sessions\", json=start_payload)\n",
    "    \n",
    "    if response.status_code >= 400:\n",
    "        print(f\"❌ Failed to start {modality} session\")\n",
    "        return None\n",
    "    \n",
    "    session_id = response.json()[\"session_id\"]\n",
    "    \n",
    "    # Create answers based on accuracy\n",
    "    total_questions = 10\n",
    "    correct_count = int(total_questions * (accuracy / 100))\n",
    "    \n",
    "    answers = []\n",
    "    for i in range(1, total_questions + 1):\n",
    "        is_correct = i <= correct_count\n",
    "        \n",
    "        if modality == \"listening\":\n",
    "            answer = {\n",
    "                \"item_id\": f\"{day_code}_q{i}\",\n",
    "                \"question_type\": \"multiple_choice\",\n",
    "                \"user_answer\": \"A\" if is_correct else \"B\",\n",
    "                \"correct_answer\": \"A\",\n",
    "                \"is_correct\": is_correct,\n",
    "                \"time_spent_sec\": random.randint(30, 60),\n",
    "                \"skill\": \"vocabulary\",\n",
    "                \"audio_timestamp_start\": i * 20,\n",
    "                \"audio_timestamp_end\": (i + 1) * 20,\n",
    "                \"topic\": day_code\n",
    "            }\n",
    "        else:\n",
    "            answer = {\n",
    "                \"item_id\": f\"{day_code}_q{i}\",\n",
    "                \"user_answer\": \"A\" if is_correct else \"B\",\n",
    "                \"correct_answer\": \"A\",\n",
    "                \"is_correct\": is_correct,\n",
    "                \"time_spent_sec\": random.randint(30, 60),\n",
    "                \"skill\": \"verb_tenses\" if modality == \"grammar\" else \"vocabulary\",\n",
    "                \"topic\": day_code\n",
    "            }\n",
    "        answers.append(answer)\n",
    "    \n",
    "    # Submit session\n",
    "    complete_time = start_time + timedelta(seconds=duration_sec)\n",
    "    xp_earned = 20 + int(accuracy)  # Simple XP calculation for now\n",
    "    \n",
    "    submit_payload = {\n",
    "        \"answers\": answers,\n",
    "        \"completed_at\": complete_time.isoformat(),\n",
    "        \"duration_sec\": duration_sec,\n",
    "        \"score_pct\": accuracy,\n",
    "        \"xp_earned\": xp_earned\n",
    "    }\n",
    "    \n",
    "    if modality == \"listening\":\n",
    "        submit_payload[\"audio_replay_count\"] = random.randint(0, 2)\n",
    "        response = requests.post(f\"{BASE_URL}/listening/sessions/{session_id}/submit\", json=submit_payload)\n",
    "    else:\n",
    "        response = requests.post(f\"{BASE_URL}/sessions/{session_id}/submit\", json=submit_payload)\n",
    "    \n",
    "    if response.status_code < 400:\n",
    "        return response.json()\n",
    "    else:\n",
    "        print(f\"❌ Failed to submit {modality} session\")\n",
    "        return None\n",
    "\n",
    "print(\"✅ Helper functions loaded\")"
   ]
  },
  {
   "cell_type": "markdown",
   "metadata": {},
   "source": [
    "---\n",
    "# PART 1: XP Calculation Scenarios"
   ]
  },
  {
   "cell_type": "markdown",
   "metadata": {},
   "source": [
    "## 1.1 Scenario: Low Performance Session"
   ]
  },
  {
   "cell_type": "code",
   "execution_count": null,
   "metadata": {},
   "outputs": [],
   "source": [
    "print(\"\\n🧪 Testing: Low Performance Session\")\n",
    "print(\"Scenario: 60% accuracy, slower than expected, no streak\")\n",
    "print(\"=\" * 60)\n",
    "\n",
    "result = create_session(\n",
    "    modality=\"reading\",\n",
    "    day_code=\"day1\",\n",
    "    accuracy=60,\n",
    "    duration_sec=1200,  # Slower: 20 min vs 15 min expected\n",
    "    expected_duration=900\n",
    ")\n",
    "\n",
    "if result:\n",
    "    print(f\"\\n✅ Session completed\")\n",
    "    print(f\"XP Awarded: {result.get('xp_awarded', 'N/A')}\")\n",
    "    print(f\"Current Streak: {result.get('current_streak', 'N/A')}\")\n",
    "    \n",
    "    # Expected XP breakdown:\n",
    "    print(\"\\n📊 Expected XP Breakdown:\")\n",
    "    print(\"  Base XP: 20\")\n",
    "    print(\"  Accuracy Bonus: 0 (< 80%)\")\n",
    "    print(\"  Speed Bonus: 0 (slower)\")\n",
    "    print(\"  Streak Bonus: 0 (no streak)\")\n",
    "    print(\"  First Session: 15 (likely first today)\")\n",
    "    print(\"  ─────────────────\")\n",
    "    print(\"  Expected Total: ~35 XP\")"
   ]
  },
  {
   "cell_type": "markdown",
   "metadata": {},
   "source": [
    "## 1.2 Scenario: High Performance Session"
   ]
  },
  {
   "cell_type": "code",
   "execution_count": null,
   "metadata": {},
   "outputs": [],
   "source": [
    "print(\"\\n🧪 Testing: High Performance Session\")\n",
    "print(\"Scenario: 90% accuracy, faster completion\")\n",
    "print(\"=\" * 60)\n",
    "\n",
    "time.sleep(1)  # Small delay\n",
    "\n",
    "result = create_session(\n",
    "    modality=\"listening\",\n",
    "    day_code=\"day2\",\n",
    "    accuracy=90,\n",
    "    duration_sec=600,  # Faster: 10 min vs 15 min expected\n",
    "    expected_duration=900\n",
    ")\n",
    "\n",
    "if result:\n",
    "    print(f\"\\n✅ Session completed\")\n",
    "    print(f\"XP Awarded: {result.get('xp_awarded', 'N/A')}\")\n",
    "    print(f\"Current Streak: {result.get('current_streak', 'N/A')}\")\n",
    "    \n",
    "    print(\"\\n📊 Expected XP Breakdown:\")\n",
    "    print(\"  Base XP: 20\")\n",
    "    print(\"  Accuracy Bonus: 10 (≥ 80%)\")\n",
    "    print(\"  Speed Bonus: ~3 (33% faster)\")\n",
    "    print(\"  Streak Bonus: 2 (1 day streak)\")\n",
    "    print(\"  ─────────────────\")\n",
    "    print(\"  Expected Total: ~50+ XP\")"
   ]
  },
  {
   "cell_type": "markdown",
   "metadata": {},
   "source": [
    "## 1.3 Scenario: Perfect Score Session"
   ]
  },
  {
   "cell_type": "code",
   "execution_count": null,
   "metadata": {},
   "outputs": [],
   "source": [
    "print(\"\\n🧪 Testing: Perfect Score Session\")\n",
    "print(\"Scenario: 100% accuracy, good speed\")\n",
    "print(\"=\" * 60)\n",
    "\n",
    "time.sleep(1)\n",
    "\n",
    "result = create_session(\n",
    "    modality=\"grammar\",\n",
    "    day_code=\"day3\",\n",
    "    accuracy=100,\n",
    "    duration_sec=700,\n",
    "    expected_duration=900\n",
    ")\n",
    "\n",
    "if result:\n",
    "    print(f\"\\n✅ Session completed\")\n",
    "    print(f\"XP Awarded: {result.get('xp_awarded', 'N/A')}\")\n",
    "    print(f\"Current Streak: {result.get('current_streak', 'N/A')}\")\n",
    "    print(f\"Badges Awarded: {len(result.get('badges_awarded', []))}\")\n",
    "    \n",
    "    print(\"\\n📊 Expected XP Breakdown:\")\n",
    "    print(\"  Base XP: 20\")\n",
    "    print(\"  Accuracy Bonus: 10 (≥ 80%)\")\n",
    "    print(\"  Perfect Score Bonus: 25 (100%)\")\n",
    "    print(\"  Speed Bonus: ~2\")\n",
    "    print(\"  Streak Bonus: 4-6 (2-3 day streak)\")\n",
    "    print(\"  Perfect Day Bonus: 50 (all 3 modalities!)\")\n",
    "    print(\"  ─────────────────\")\n",
    "    print(\"  Expected Total: ~111+ XP 🎉\")"
   ]
  },
  {
   "cell_type": "markdown",
   "metadata": {},
   "source": [
    "---\n",
    "# PART 2: Streak Management Tests"
   ]
  },
  {
   "cell_type": "markdown",
   "metadata": {},
   "source": [
    "## 2.1 Check Current Streak"
   ]
  },
  {
   "cell_type": "code",
   "execution_count": null,
   "metadata": {},
   "outputs": [],
   "source": [
    "print(\"\\n🔥 Checking Current Streak\")\n",
    "print(\"=\" * 60)\n",
    "\n",
    "response = requests.get(f\"{BASE_URL}/users/{TEST_USER_ID}/streak\")\n",
    "streak_data = print_response(\"Current Streak Status\", response)\n",
    "\n",
    "if streak_data:\n",
    "    print(\"\\n📊 Streak Summary:\")\n",
    "    print(f\"  Current Streak: {streak_data['current_streak']} days\")\n",
    "    print(f\"  Longest Streak: {streak_data['longest_streak']} days\")\n",
    "    print(f\"  Last Active: {streak_data['last_active_date']}\")\n",
    "    print(f\"  Active Today: {'✅ Yes' if streak_data['is_active_today'] else '❌ No'}\")\n",
    "    print(f\"  Status: {streak_data['streak_status'].upper()}\")"
   ]
  },
  {
   "cell_type": "markdown",
   "metadata": {},
   "source": [
    "## 2.2 Streak Calendar View"
   ]
  },
  {
   "cell_type": "code",
   "execution_count": null,
   "metadata": {},
   "outputs": [],
   "source": [
    "print(\"\\n📅 Streak Calendar for Current Month\")\n",
    "print(\"=\" * 60)\n",
    "\n",
    "current_month = datetime.now().strftime(\"%Y-%m\")\n",
    "response = requests.get(\n",
    "    f\"{BASE_URL}/users/{TEST_USER_ID}/streak-calendar\",\n",
    "    params={\"month\": current_month}\n",
    ")\n",
    "\n",
    "calendar_data = print_response(f\"Streak Calendar - {current_month}\", response)\n",
    "\n",
    "if calendar_data and calendar_data.get('days'):\n",
    "    # Create DataFrame for visualization\n",
    "    days_df = pd.DataFrame(calendar_data['days'])\n",
    "    active_days = days_df[days_df['sessions_completed'] > 0]\n",
    "    \n",
    "    print(\"\\n📊 Calendar Summary:\")\n",
    "    print(f\"  Current Streak: {calendar_data['current_streak']} days\")\n",
    "    print(f\"  Perfect Days: {calendar_data['perfect_days']}\")\n",
    "    print(f\"  Active Days This Month: {len(active_days)}\")\n",
    "    \n",
    "    if len(active_days) > 0:\n",
    "        print(\"\\n📋 Active Days Detail:\")\n",
    "        print(active_days[['date', 'sessions_completed', 'modalities_completed', 'total_xp_earned', 'streak_day']].to_string(index=False))"
   ]
  },
  {
   "cell_type": "markdown",
   "metadata": {},
   "source": [
    "---\n",
    "# PART 3: XP & Level Tracking"
   ]
  },
  {
   "cell_type": "markdown",
   "metadata": {},
   "source": [
    "## 3.1 Get User XP Summary"
   ]
  },
  {
   "cell_type": "code",
   "execution_count": null,
   "metadata": {},
   "outputs": [],
   "source": [
    "print(\"\\n⭐ User XP Summary\")\n",
    "print(\"=\" * 60)\n",
    "\n",
    "response = requests.get(f\"{BASE_URL}/users/{TEST_USER_ID}/xp\")\n",
    "xp_data = print_response(\"XP Summary\", response)\n",
    "\n",
    "if xp_data:\n",
    "    print(\"\\n📊 XP Overview:\")\n",
    "    print(f\"  Total XP: {xp_data['total_xp']} XP\")\n",
    "    print(f\"  Today's XP: {xp_data['today_xp']} XP\")\n",
    "    print(f\"  Current Level: {xp_data['current_level']}\")\n",
    "    print(f\"  XP to Next Level: {xp_data['xp_to_next_level']} XP\")\n",
    "    print(f\"  Level Progress: {xp_data['level_progress_pct']}%\")\n",
    "    \n",
    "    # Progress bar visualization\n",
    "    progress = xp_data['level_progress_pct']\n",
    "    bar_length = 30\n",
    "    filled = int(bar_length * progress / 100)\n",
    "    bar = '█' * filled + '░' * (bar_length - filled)\n",
    "    print(f\"\\n  [{bar}] {progress}%\")"
   ]
  },
  {
   "cell_type": "markdown",
   "metadata": {},
   "source": [
    "## 3.2 Get Level Information"
   ]
  },
  {
   "cell_type": "code",
   "execution_count": null,
   "metadata": {},
   "outputs": [],
   "source": [
    "print(\"\\n🎖️ User Level Information\")\n",
    "print(\"=\" * 60)\n",
    "\n",
    "response = requests.get(f\"{BASE_URL}/users/{TEST_USER_ID}/level\")\n",
    "level_data = print_response(\"Level Info\", response)\n",
    "\n",
    "if level_data:\n",
    "    print(\"\\n📊 Level Details:\")\n",
    "    print(f\"  Current Level: {level_data['current_level']}\")\n",
    "    print(f\"  Level Name: {level_data['level_name']}\")\n",
    "    print(f\"  Total XP: {level_data['total_xp']}\")\n",
    "    print(f\"  XP for Current Level: {level_data['xp_for_current_level']}\")\n",
    "    print(f\"  XP for Next Level: {level_data['xp_for_next_level']}\")\n",
    "    print(f\"  XP Needed: {level_data['xp_to_next_level']}\")\n",
    "    print(f\"  Progress: {level_data['progress_pct']}%\")"
   ]
  },
  {
   "cell_type": "markdown",
   "metadata": {},
   "source": [
    "## 3.3 Daily XP Breakdown"
   ]
  },
  {
   "cell_type": "code",
   "execution_count": null,
   "metadata": {},
   "outputs": [],
   "source": [
    "print(\"\\n💰 Daily XP Breakdown\")\n",
    "print(\"=\" * 60)\n",
    "\n",
    "response = requests.get(f\"{BASE_URL}/users/{TEST_USER_ID}/xp/daily\")\n",
    "daily_xp = print_response(\"Today's XP Breakdown\", response)\n",
    "\n",
    "if daily_xp:\n",
    "    print(\"\\n📊 Today's Statistics:\")\n",
    "    print(f\"  XP Earned: {daily_xp['xp_earned_today']} XP\")\n",
    "    print(f\"  Daily Goal: {daily_xp['xp_goal']} XP\")\n",
    "    print(f\"  Goal Completion: {daily_xp['goal_completion_pct']}%\")\n",
    "    print(f\"  Sessions Today: {daily_xp['sessions_today']}\")\n",
    "    \n",
    "    if daily_xp.get('breakdown'):\n",
    "        print(\"\\n📋 XP Sources:\")\n",
    "        breakdown_df = pd.DataFrame(daily_xp['breakdown'])\n",
    "        if not breakdown_df.empty:\n",
    "            source_summary = breakdown_df.groupby('source')['amount'].sum()\n",
    "            for source, amount in source_summary.items():\n",
    "                print(f\"  {source}: +{amount} XP\")"
   ]
  },
  {
   "cell_type": "markdown",
   "metadata": {},
   "source": [
    "---\n",
    "# PART 4: Daily Goals & Progress"
   ]
  },
  {
   "cell_type": "markdown",
   "metadata": {},
   "source": [
    "## 4.1 Check Daily Progress"
   ]
  },
  {
   "cell_type": "code",
   "execution_count": null,
   "metadata": {},
   "outputs": [],
   "source": [
    "print(\"\\n🎯 Daily Goals Progress\")\n",
    "print(\"=\" * 60)\n",
    "\n",
    "response = requests.get(f\"{BASE_URL}/users/{TEST_USER_ID}/daily-progress\")\n",
    "progress_data = print_response(\"Daily Progress\", response)\n",
    "\n",
    "if progress_data:\n",
    "    print(\"\\n📊 Progress Summary:\")\n",
    "    print(f\"  Date: {progress_data['date']}\")\n",
    "    print(f\"  XP Earned: {progress_data['xp_earned']} / {progress_data['xp_goal']}\")\n",
    "    print(f\"  Sessions: {progress_data['sessions_completed']} / {progress_data['session_goal']}\")\n",
    "    print(f\"  Time Spent: {progress_data['time_spent_minutes']} minutes\")\n",
    "    print(f\"  Modalities: {', '.join(progress_data['modalities_completed']) if progress_data['modalities_completed'] else 'None'}\")\n",
    "    print(f\"  Perfect Day: {'✅ YES!' if progress_data['is_perfect_day'] else '❌ Not yet'}\")\n",
    "    \n",
    "    print(\"\\n🎯 Goals Status:\")\n",
    "    for goal in progress_data['goals']:\n",
    "        status = '✅' if goal['is_completed'] else '⏳'\n",
    "        print(f\"  {status} {goal['goal_type'].replace('_', ' ').title()}: {goal['current']}/{goal['target']}\")"
   ]
  },
  {
   "cell_type": "markdown",
   "metadata": {},
   "source": [
    "---\n",
    "# PART 5: Multi-Day Streak Simulation"
   ]
  },
  {
   "cell_type": "markdown",
   "metadata": {},
   "source": [
    "## 5.1 Simulate 7-Day Streak"
   ]
  },
  {
   "cell_type": "code",
   "execution_count": null,
   "metadata": {},
   "outputs": [],
   "source": [
    "print(\"\\n🔥 Simulating 7-Day Learning Streak\")\n",
    "print(\"=\" * 60)\n",
    "\n",
    "streak_results = []\n",
    "\n",
    "for day in range(4, 11):  # Days 4-10 (already did 1-3)\n",
    "    day_code = f\"day{day}\"\n",
    "    print(f\"\\n📅 Day {day}\")\n",
    "    \n",
    "    # Simulate improving performance\n",
    "    base_accuracy = 60 + (day * 3)  # Gradually improving\n",
    "    \n",
    "    # Do all 3 modalities for perfect day bonus\n",
    "    for modality in ['listening', 'reading', 'grammar']:\n",
    "        accuracy = min(100, base_accuracy + random.randint(-5, 10))\n",
    "        duration = random.randint(600, 900)\n",
    "        \n",
    "        result = create_session(modality, day_code, accuracy, duration)\n",
    "        if result:\n",
    "            print(f\"  ✅ {modality.title()}: {accuracy}% - {result.get('xp_awarded', 'N/A')} XP\")\n",
    "        \n",
    "        time.sleep(0.3)  # Small delay\n",
    "    \n",
    "    # Check streak after this day\n",
    "    response = requests.get(f\"{BASE_URL}/users/{TEST_USER_ID}/streak\")\n",
    "    if response.status_code < 400:\n",
    "        streak_info = response.json()\n",
    "        streak_results.append({\n",
    "            'day': day,\n",
    "            'streak': streak_info['current_streak'],\n",
    "            'longest': streak_info['longest_streak']\n",
    "        })\n",
    "        print(f\"  🔥 Streak: {streak_info['current_streak']} days\")\n",
    "    \n",
    "    time.sleep(0.5)\n",
    "\n",
    "print(\"\\n✅ 7-Day simulation completed!\")"
   ]
  },
  {
   "cell_type": "markdown",
   "metadata": {},
   "source": [
    "## 5.2 Visualize Streak Growth"
   ]
  },
  {
   "cell_type": "code",
   "execution_count": null,
   "metadata": {},
   "outputs": [],
   "source": [
    "if streak_results:\n",
    "    print(\"\\n📈 Streak Growth Visualization\")\n",
    "    \n",
    "    df = pd.DataFrame(streak_results)\n",
    "    \n",
    "    fig, ax = plt.subplots(figsize=(10, 5))\n",
    "    ax.plot(df['day'], df['streak'], marker='o', linewidth=2, markersize=10, color='#FF6B6B')\n",
    "    ax.fill_between(df['day'], df['streak'], alpha=0.3, color='#FF6B6B')\n",
    "    ax.set_xlabel('Day', fontsize=12)\n",
    "    ax.set_ylabel('Streak (days)', fontsize=12)\n",
    "    ax.set_title('🔥 Learning Streak Progress', fontsize=14, fontweight='bold')\n",
    "    ax.grid(True, alpha=0.3)\n",
    "    ax.set_ylim(bottom=0)\n",
    "    \n",
    "    plt.tight_layout()\n",
    "    plt.show()\n",
    "    \n",
    "    print(\"\\n📊 Streak Statistics:\")\n",
    "    print(f\"  Final Streak: {df['streak'].iloc[-1]} days\")\n",
    "    print(f\"  Longest Streak: {df['longest'].max()} days\")"
   ]
  },
  {
   "cell_type": "markdown",
   "metadata": {},
   "source": [
    "---\n",
    "# PART 6: XP & Level Analysis"
   ]
  },
  {
   "cell_type": "markdown",
   "metadata": {},
   "source": [
    "## 6.1 Final XP Summary"
   ]
  },
  {
   "cell_type": "code",
   "execution_count": null,
   "metadata": {},
   "outputs": [],
   "source": [
    "print(\"\\n⭐ Final XP & Level Summary\")\n",
    "print(\"=\" * 60)\n",
    "\n",
    "# Get final XP\n",
    "xp_response = requests.get(f\"{BASE_URL}/users/{TEST_USER_ID}/xp\")\n",
    "xp_final = xp_response.json() if xp_response.status_code < 400 else {}\n",
    "\n",
    "# Get final level\n",
    "level_response = requests.get(f\"{BASE_URL}/users/{TEST_USER_ID}/level\")\n",
    "level_final = level_response.json() if level_response.status_code < 400 else {}\n",
    "\n",
    "# Get final streak\n",
    "streak_response = requests.get(f\"{BASE_URL}/users/{TEST_USER_ID}/streak\")\n",
    "streak_final = streak_response.json() if streak_response.status_code < 400 else {}\n",
    "\n",
    "print(\"\\n📊 FINAL STATISTICS\")\n",
    "print(\"=\" * 60)\n",
    "print(f\"\\n💰 XP:\")\n",
    "print(f\"  Total XP Earned: {xp_final.get('total_xp', 'N/A')} XP\")\n",
    "print(f\"  Today's XP: {xp_final.get('today_xp', 'N/A')} XP\")\n",
    "\n",
    "print(f\"\\n🎖️ Level:\")\n",
    "print(f\"  Current Level: {level_final.get('current_level', 'N/A')}\")\n",
    "print(f\"  Level Name: {level_final.get('level_name', 'N/A')}\")\n",
    "print(f\"  Progress to Next: {level_final.get('progress_pct', 'N/A')}%\")\n",
    "\n",
    "print(f\"\\n🔥 Streak:\")\n",
    "print(f\"  Current Streak: {streak_final.get('current_streak', 'N/A')} days\")\n",
    "print(f\"  Longest Streak: {streak_final.get('longest_streak', 'N/A')} days\")\n",
    "print(f\"  Status: {streak_final.get('streak_status', 'N/A').upper()}\")"
   ]
  },
  {
   "cell_type": "markdown",
   "metadata": {},
   "source": [
    "## 6.2 XP Calculation Verification"
   ]
  },
  {
   "cell_type": "code",
   "execution_count": null,
   "metadata": {},
   "outputs": [],
   "source": [
    "print(\"\\n🧮 XP Calculation Verification\")\n",
    "print(\"=\" * 60)\n",
    "\n",
    "# Get daily XP breakdown\n",
    "daily_response = requests.get(f\"{BASE_URL}/users/{TEST_USER_ID}/xp/daily\")\n",
    "if daily_response.status_code < 400:\n",
    "    daily_data = daily_response.json()\n",
    "    \n",
    "    if daily_data.get('breakdown'):\n",
    "        df = pd.DataFrame(daily_data['breakdown'])\n",
    "        \n",
    "        print(\"\\n📋 XP Sources Breakdown:\")\n",
    "        source_totals = df.groupby('source')['amount'].agg(['sum', 'count'])\n",
    "        source_totals.columns = ['Total XP', 'Count']\n",
    "        print(source_totals)\n",
    "        \n",
    "        print(f\"\\n✅ Verification:\")\n",
    "        calculated_total = df['amount'].sum()\n",
    "        reported_total = daily_data['xp_earned_today']\n",
    "        print(f\"  Calculated Total: {calculated_total} XP\")\n",
    "        print(f\"  Reported Total: {reported_total} XP\")\n",
    "        print(f\"  Match: {'✅ YES' if calculated_total == reported_total else '❌ NO'}\")"
   ]
  },
  {
   "cell_type": "markdown",
   "metadata": {},
   "source": [
    "---\n",
    "# Summary Report"
   ]
  },
  {
   "cell_type": "code",
   "execution_count": null,
   "metadata": {},
   "outputs": [],
   "source": [
    "print(\"\\n\" + \"=\"*60)\n",
    "print(\"📋 XP & STREAKS TEST SUMMARY\")\n",
    "print(\"=\"*60)\n",
    "\n",
    "print(f\"\\n🧪 Test User: {TEST_USER_ID}\")\n",
    "\n",
    "print(\"\\n✅ ENDPOINTS TESTED:\")\n",
    "endpoints = [\n",
    "    \"✓ GET /users/{id}/xp - XP summary\",\n",
    "    \"✓ GET /users/{id}/xp/daily - Daily XP breakdown\",\n",
    "    \"✓ GET /users/{id}/level - Level information\",\n",
    "    \"✓ GET /users/{id}/streak - Streak status\",\n",
    "    \"✓ GET /users/{id}/daily-progress - Daily goals\",\n",
    "    \"✓ GET /users/{id}/streak-calendar - Monthly calendar\"\n",
    "]\n",
    "for endpoint in endpoints:\n",
    "    print(f\"  {endpoint}\")\n",
    "\n",
    "print(\"\\n✅ FEATURES VERIFIED:\")\n",
    "features = [\n",
    "    \"✓ Base XP calculation\",\n",
    "    \"✓ Accuracy bonus (≥80%)\",\n",
    "    \"✓ Perfect score bonus (100%)\",\n",
    "    \"✓ Speed bonus\",\n",
    "    \"✓ Streak bonus\",\n",
    "    \"✓ First session bonus\",\n",
    "    \"✓ Perfect day bonus\",\n",
    "    \"✓ Streak tracking and calendar\",\n",
    "    \"✓ Level progression\",\n",
    "    \"✓ Daily goals tracking\"\n",
    "]\n",
    "for feature in features:\n",
    "    print(f\"  {feature}\")\n",
    "\n",
    "print(\"\\n\" + \"=\"*60)\n",
    "print(\"🎉 XP & STREAKS TEST COMPLETED!\")\n",
    "print(\"=\"*60)"
   ]
  }
 ],
 "metadata": {
  "kernelspec": {
   "display_name": "Python 3",
   "language": "python",
   "name": "python3"
  },
  "language_info": {
   "codemirror_mode": {
    "name": "ipython",
    "version": 3
   },
   "file_extension": ".py",
   "mimetype": "text/x-python",
   "name": "python",
   "nbconvert_exporter": "python",
   "pygments_lexer": "ipython3",
   "version": "3.9.0"
  }
 },
 "nbformat": 4,
 "nbformat_minor": 4
}
