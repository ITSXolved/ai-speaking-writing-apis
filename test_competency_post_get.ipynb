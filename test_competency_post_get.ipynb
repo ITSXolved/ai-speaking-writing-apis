{
 "cells": [
  {
   "cell_type": "markdown",
   "metadata": {},
   "source": [
    "# Competency Tracking - Post and Get Test\n",
    "\n",
    "This notebook demonstrates:\n",
    "1. Posting speaking and writing evaluations with day codes\n",
    "2. Getting data for a specific day\n",
    "3. Getting data for all days"
   ]
  },
  {
   "cell_type": "markdown",
   "metadata": {},
   "source": [
    "## Setup"
   ]
  },
  {
   "cell_type": "code",
   "execution_count": 1,
   "metadata": {},
   "outputs": [],
   "source": [
    "import requests\n",
    "import json\n",
    "from uuid import uuid4\n",
    "\n",
    "BASE_URL = \"http://localhost:8080\"\n",
    "\n",
    "def print_response(title, response):\n",
    "    print(f\"\\n{'='*80}\")\n",
    "    print(f\"{title}\")\n",
    "    print(f\"{'='*80}\")\n",
    "    print(f\"Status Code: {response.status_code}\")\n",
    "    try:\n",
    "        print(json.dumps(response.json(), indent=2))\n",
    "    except:\n",
    "        print(response.text)\n",
    "    print(f\"{'='*80}\\n\")"
   ]
  },
  {
   "cell_type": "markdown",
   "metadata": {},
   "source": [
    "---\n",
    "## Part 1: Post Speaking Evaluations\n",
    "---"
   ]
  },
  {
   "cell_type": "markdown",
   "metadata": {},
   "source": [
    "### Post Speaking - Day 1"
   ]
  },
  {
   "cell_type": "code",
   "execution_count": 2,
   "metadata": {},
   "outputs": [
    {
     "name": "stdout",
     "output_type": "stream",
     "text": [
      "\n",
      "================================================================================\n",
      "Day 1 Speaking Posted\n",
      "================================================================================\n",
      "Status Code: 201\n",
      "{\n",
      "  \"success\": true,\n",
      "  \"evaluation_id\": \"5da24b1c-3cc1-4a59-9305-f69f6773899f\",\n",
      "  \"day_code\": \"day1\",\n",
      "  \"overall_score\": 76,\n",
      "  \"message\": \"Speaking evaluation saved successfully\"\n",
      "}\n",
      "================================================================================\n",
      "\n",
      "\n",
      "🔑 Speaking User ID: 9ed2a486-92bb-4fbd-8b32-baf4c5f78b61\n",
      "Use this ID to get speaking evaluation results\n"
     ]
    }
   ],
   "source": [
    "# Store user_id to use for getting data later\n",
    "speaking_user_id = str(uuid4())\n",
    "\n",
    "custom_day = \"day1\"\n",
    "\n",
    "custom_speaking = {\n",
    "    \"user_id\": speaking_user_id,\n",
    "    \"session_id\": str(uuid4()),\n",
    "    \"day_code\": custom_day,\n",
    "    \"language\": \"english\",\n",
    "    \"user_level\": \"intermediate\",\n",
    "    \"total_turns\": 10,\n",
    "    \"scores\": {\"fluency\": 75, \"pronunciation\": 80, \"vocabulary\": 70, \"grammar\": 78},\n",
    "    \"strengths\": [\"Good pronunciation clarity\", \"Consistent speaking pace\"],\n",
    "    \"improvements\": [\"Work on vocabulary variety\", \"Practice fluency in longer sentences\"],\n",
    "    \"suggestions\": [\"Read aloud for 10 minutes daily\", \"Practice with shadowing technique\"],\n",
    "    \"conversation_summary\": \"Discussed daily routines and hobbies\",\n",
    "    \"overall_score\": 76,\n",
    "    \"feedback_summary\": \"Solid foundation, focus on expanding vocabulary\",\n",
    "    \"fluency_level\": \"intermediate\",\n",
    "    \"vocabulary_range\": \"basic\"\n",
    "}\n",
    "\n",
    "response = requests.post(f\"{BASE_URL}/api/competency/speaking/save\", json=custom_speaking)\n",
    "print_response(\"Day 1 Speaking Posted\", response)\n",
    "\n",
    "print(f\"\\n🔑 Speaking User ID: {speaking_user_id}\")\n",
    "print(\"Use this ID to get speaking evaluation results\")"
   ]
  },
  {
   "cell_type": "markdown",
   "metadata": {},
   "source": [
    "### Post Speaking - Day 2"
   ]
  },
  {
   "cell_type": "code",
   "execution_count": 3,
   "metadata": {},
   "outputs": [
    {
     "name": "stdout",
     "output_type": "stream",
     "text": [
      "\n",
      "================================================================================\n",
      "Day 2 Speaking Posted\n",
      "================================================================================\n",
      "Status Code: 201\n",
      "{\n",
      "  \"success\": true,\n",
      "  \"evaluation_id\": \"2e6a5574-d24e-4709-8186-027d874ba33d\",\n",
      "  \"day_code\": \"day2\",\n",
      "  \"overall_score\": 79,\n",
      "  \"message\": \"Speaking evaluation saved successfully\"\n",
      "}\n",
      "================================================================================\n",
      "\n"
     ]
    }
   ],
   "source": [
    "custom_day = \"day2\"\n",
    "\n",
    "custom_speaking = {\n",
    "    \"user_id\": speaking_user_id,  # Same user ID\n",
    "    \"session_id\": str(uuid4()),\n",
    "    \"day_code\": custom_day,\n",
    "    \"language\": \"english\",\n",
    "    \"user_level\": \"intermediate\",\n",
    "    \"total_turns\": 12,\n",
    "    \"scores\": {\"fluency\": 78, \"pronunciation\": 82, \"vocabulary\": 75, \"grammar\": 80},\n",
    "    \"strengths\": [\"Improved vocabulary usage\", \"Better fluency in responses\"],\n",
    "    \"improvements\": [\"Work on complex sentence structures\"],\n",
    "    \"suggestions\": [\"Practice describing abstract concepts\"],\n",
    "    \"conversation_summary\": \"Discussed travel experiences and future plans\",\n",
    "    \"overall_score\": 79,\n",
    "    \"feedback_summary\": \"Great progress! More confidence\",\n",
    "    \"fluency_level\": \"intermediate\",\n",
    "    \"vocabulary_range\": \"intermediate\"\n",
    "}\n",
    "\n",
    "response = requests.post(f\"{BASE_URL}/api/competency/speaking/save\", json=custom_speaking)\n",
    "print_response(\"Day 2 Speaking Posted\", response)"
   ]
  },
  {
   "cell_type": "markdown",
   "metadata": {},
   "source": [
    "### Post Speaking - Day 3"
   ]
  },
  {
   "cell_type": "code",
   "execution_count": 4,
   "metadata": {},
   "outputs": [
    {
     "name": "stdout",
     "output_type": "stream",
     "text": [
      "\n",
      "================================================================================\n",
      "Day 3 Speaking Posted\n",
      "================================================================================\n",
      "Status Code: 201\n",
      "{\n",
      "  \"success\": true,\n",
      "  \"evaluation_id\": \"4d108e83-0f5c-4ea5-9c86-f54458cb7b75\",\n",
      "  \"day_code\": \"day3\",\n",
      "  \"overall_score\": 85,\n",
      "  \"message\": \"Speaking evaluation saved successfully\"\n",
      "}\n",
      "================================================================================\n",
      "\n"
     ]
    }
   ],
   "source": [
    "custom_day = \"day3\"\n",
    "\n",
    "custom_speaking = {\n",
    "    \"user_id\": speaking_user_id,  # Same user ID\n",
    "    \"session_id\": str(uuid4()),\n",
    "    \"day_code\": custom_day,\n",
    "    \"language\": \"english\",\n",
    "    \"user_level\": \"upper_intermediate\",\n",
    "    \"total_turns\": 15,\n",
    "    \"scores\": {\"fluency\": 85, \"pronunciation\": 88, \"vocabulary\": 82, \"grammar\": 86},\n",
    "    \"strengths\": [\"Excellent fluency\", \"Natural conversation flow\"],\n",
    "    \"improvements\": [\"Minor grammar tweaks\"],\n",
    "    \"suggestions\": [\"Keep practicing\"],\n",
    "    \"conversation_summary\": \"Great conversation about travel\",\n",
    "    \"overall_score\": 85,\n",
    "    \"feedback_summary\": \"Excellent progress!\",\n",
    "    \"fluency_level\": \"advanced\",\n",
    "    \"vocabulary_range\": \"extensive\"\n",
    "}\n",
    "\n",
    "response = requests.post(f\"{BASE_URL}/api/competency/speaking/save\", json=custom_speaking)\n",
    "print_response(\"Day 3 Speaking Posted\", response)"
   ]
  },
  {
   "cell_type": "markdown",
   "metadata": {},
   "source": [
    "---\n",
    "## Part 2: Post Writing Evaluations\n",
    "---"
   ]
  },
  {
   "cell_type": "markdown",
   "metadata": {},
   "source": [
    "### Post Writing - Day 1"
   ]
  },
  {
   "cell_type": "code",
   "execution_count": 5,
   "metadata": {},
   "outputs": [
    {
     "name": "stdout",
     "output_type": "stream",
     "text": [
      "\n",
      "================================================================================\n",
      "Day 1 Writing Posted\n",
      "================================================================================\n",
      "Status Code: 422\n",
      "{\n",
      "  \"error\": \"Validation error\",\n",
      "  \"detail\": null,\n",
      "  \"details\": [\n",
      "    {\n",
      "      \"type\": \"missing\",\n",
      "      \"message\": \"Field required\",\n",
      "      \"field\": \"body.improved_version\"\n",
      "    },\n",
      "    {\n",
      "      \"type\": \"missing\",\n",
      "      \"message\": \"Field required\",\n",
      "      \"field\": \"body.feedback_summary\"\n",
      "    }\n",
      "  ],\n",
      "  \"error_code\": null,\n",
      "  \"request_id\": null\n",
      "}\n",
      "================================================================================\n",
      "\n",
      "\n",
      "🔑 Writing User ID: test_user_b7e2c36e\n",
      "Use this ID to get writing evaluation results\n"
     ]
    }
   ],
   "source": [
    "# Store user_id to use for getting data later\n",
    "writing_user_id = \"test_user_\" + str(uuid4())[:8]\n",
    "\n",
    "custom_day = \"day1\"\n",
    "\n",
    "custom_writing = {\n",
    "    \"user_id\": writing_user_id,\n",
    "    \"day_code\": custom_day,\n",
    "    \"original_text\": \"My favorite hobby is reading. I enjoy reading books about history and science.\",\n",
    "    \"language\": \"english\",\n",
    "    \"writing_type\": \"descriptive\",\n",
    "    \"user_level\": \"intermediate\",\n",
    "    \"scores\": {\"grammar\": 72, \"vocabulary\": 68, \"coherence\": 75, \"mechanics\": 80, \"organization\": 70},\n",
    "    \"strengths\": [\"Good sentence structure\", \"Clear organization\"],\n",
    "    \"improvements\": [\"Use more varied vocabulary\", \"Work on paragraph transitions\"],\n",
    "    \"suggestions\": [\"Practice writing topic sentences\", \"Study transition words\"],\n",
    "    \"overall_score\": 73,\n",
    "    \"task_type\": \"essay\",\n",
    "    \"word_count\": 52,\n",
    "    \"task_description\": \"Write about your favorite hobby\"\n",
    "}\n",
    "\n",
    "response = requests.post(f\"{BASE_URL}/api/competency/writing/save\", json=custom_writing)\n",
    "print_response(\"Day 1 Writing Posted\", response)\n",
    "\n",
    "print(f\"\\n🔑 Writing User ID: {writing_user_id}\")\n",
    "print(\"Use this ID to get writing evaluation results\")"
   ]
  },
  {
   "cell_type": "markdown",
   "metadata": {},
   "source": [
    "### Post Writing - Day 2"
   ]
  },
  {
   "cell_type": "code",
   "execution_count": null,
   "metadata": {},
   "outputs": [],
   "source": [
    "custom_day = \"day2\"\n",
    "\n",
    "custom_writing = {\n",
    "    \"user_id\": writing_user_id,  # Same user ID\n",
    "    \"day_code\": custom_day,\n",
    "    \"original_text\": \"Remote work has become increasingly popular. It offers flexibility and saves commuting time.\",\n",
    "    \"language\": \"english\",\n",
    "    \"writing_type\": \"argumentative\",\n",
    "    \"user_level\": \"intermediate\",\n",
    "    \"scores\": {\"grammar\": 76, \"vocabulary\": 73, \"coherence\": 78, \"mechanics\": 82, \"organization\": 75},\n",
    "    \"strengths\": [\"Better vocabulary variety\", \"Improved transitions\"],\n",
    "    \"improvements\": [\"Work on more complex structures\"],\n",
    "    \"suggestions\": [\"Practice persuasive writing\"],\n",
    "    \"overall_score\": 77,\n",
    "    \"task_type\": \"argumentative\",\n",
    "    \"word_count\": 68,\n",
    "    \"task_description\": \"Write about remote work\"\n",
    "}\n",
    "\n",
    "response = requests.post(f\"{BASE_URL}/api/competency/writing/save\", json=custom_writing)\n",
    "print_response(\"Day 2 Writing Posted\", response)"
   ]
  },
  {
   "cell_type": "markdown",
   "metadata": {},
   "source": [
    "### Post Writing - Day 3"
   ]
  },
  {
   "cell_type": "code",
   "execution_count": null,
   "metadata": {},
   "outputs": [],
   "source": [
    "custom_day = \"day3\"\n",
    "\n",
    "custom_writing = {\n",
    "    \"user_id\": writing_user_id,  # Same user ID\n",
    "    \"day_code\": custom_day,\n",
    "    \"original_text\": \"Technology has revolutionized education. Digital platforms enable access to vast resources.\",\n",
    "    \"language\": \"english\",\n",
    "    \"writing_type\": \"analytical\",\n",
    "    \"user_level\": \"upper_intermediate\",\n",
    "    \"scores\": {\"grammar\": 80, \"vocabulary\": 78, \"coherence\": 82, \"mechanics\": 85, \"organization\": 80},\n",
    "    \"strengths\": [\"Excellent organization\", \"Advanced vocabulary\"],\n",
    "    \"improvements\": [\"Experiment with varied sentence types\"],\n",
    "    \"suggestions\": [\"Study academic writing styles\"],\n",
    "    \"overall_score\": 81,\n",
    "    \"task_type\": \"analytical\",\n",
    "    \"word_count\": 75,\n",
    "    \"task_description\": \"Analyze technology impact on education\"\n",
    "}\n",
    "\n",
    "response = requests.post(f\"{BASE_URL}/api/competency/writing/save\", json=custom_writing)\n",
    "print_response(\"Day 3 Writing Posted\", response)"
   ]
  },
  {
   "cell_type": "markdown",
   "metadata": {},
   "source": [
    "---\n",
    "## Part 3: Get Data for Specific Day\n",
    "---"
   ]
  },
  {
   "cell_type": "markdown",
   "metadata": {},
   "source": [
    "### Get Speaking Data for Day 2"
   ]
  },
  {
   "cell_type": "code",
   "execution_count": null,
   "metadata": {},
   "outputs": [],
   "source": [
    "# Get data for a specific day\n",
    "day_code = \"day2\"\n",
    "\n",
    "response = requests.get(f\"{BASE_URL}/api/competency/user/{speaking_user_id}/day/{day_code}\")\n",
    "print_response(f\"Speaking Data for {day_code}\", response)\n",
    "\n",
    "# Display formatted view\n",
    "if response.status_code == 200:\n",
    "    data = response.json()\n",
    "    if \"speaking_evaluation\" in data:\n",
    "        print(\"\\n📊 FORMATTED VIEW - SPEAKING\")\n",
    "        print(\"=\"*80)\n",
    "        speaking = data[\"speaking_evaluation\"]\n",
    "        print(f\"Overall Score: {speaking['overall_score']}\")\n",
    "        print(f\"\\nCategory Scores:\")\n",
    "        for category, score in speaking['scores'].items():\n",
    "            print(f\"  • {category.title()}: {score}\")\n",
    "        print(f\"\\nStrengths: {', '.join(speaking['strengths'])}\")\n",
    "        print(f\"Improvements: {', '.join(speaking['improvements'])}\")"
   ]
  },
  {
   "cell_type": "markdown",
   "metadata": {},
   "source": [
    "### Get Writing Data for Day 2"
   ]
  },
  {
   "cell_type": "code",
   "execution_count": null,
   "metadata": {},
   "outputs": [],
   "source": [
    "# Get data for a specific day\n",
    "day_code = \"day2\"\n",
    "\n",
    "response = requests.get(f\"{BASE_URL}/api/competency/user/{writing_user_id}/day/{day_code}\")\n",
    "print_response(f\"Writing Data for {day_code}\", response)\n",
    "\n",
    "# Display formatted view\n",
    "if response.status_code == 200:\n",
    "    data = response.json()\n",
    "    if \"writing_evaluation\" in data:\n",
    "        print(\"\\n📝 FORMATTED VIEW - WRITING\")\n",
    "        print(\"=\"*80)\n",
    "        writing = data[\"writing_evaluation\"]\n",
    "        print(f\"Overall Score: {writing['overall_score']}\")\n",
    "        print(f\"\\nCategory Scores:\")\n",
    "        for category, score in writing['scores'].items():\n",
    "            print(f\"  • {category.title()}: {score}\")\n",
    "        print(f\"\\nStrengths: {', '.join(writing['strengths'])}\")\n",
    "        print(f\"Improvements: {', '.join(writing['improvements'])}\")"
   ]
  },
  {
   "cell_type": "markdown",
   "metadata": {},
   "source": [
    "---\n",
    "## Part 4: Get Data for All Days\n",
    "---"
   ]
  },
  {
   "cell_type": "markdown",
   "metadata": {},
   "source": [
    "### Get All Speaking Data"
   ]
  },
  {
   "cell_type": "code",
   "execution_count": null,
   "metadata": {},
   "outputs": [],
   "source": [
    "# Get all days data\n",
    "response = requests.get(f\"{BASE_URL}/api/competency/user/{speaking_user_id}\")\n",
    "print_response(\"All Speaking Data\", response)\n",
    "\n",
    "# Display formatted progress\n",
    "if response.status_code == 200:\n",
    "    result = response.json()\n",
    "    \n",
    "    print(\"\\n📈 SPEAKING PROGRESS SUMMARY\")\n",
    "    print(\"=\"*80)\n",
    "    print(f\"Total Days: {result['total_days_completed']}\")\n",
    "    print(\"\\nScore Progression:\")\n",
    "    print(f\"{'Day':<10} {'Fluency':<10} {'Pronunciation':<15} {'Vocabulary':<12} {'Grammar':<10} {'Overall':<10}\")\n",
    "    print(\"-\"*80)\n",
    "    \n",
    "    for day_data in result['progress_by_day']:\n",
    "        if \"speaking_evaluation\" in day_data:\n",
    "            speaking = day_data[\"speaking_evaluation\"]\n",
    "            scores = speaking['scores']\n",
    "            print(f\"{day_data['day_code']:<10} {scores['fluency']:<10} {scores['pronunciation']:<15} {scores['vocabulary']:<12} {scores['grammar']:<10} {speaking['overall_score']:<10}\")"
   ]
  },
  {
   "cell_type": "markdown",
   "metadata": {},
   "source": [
    "### Get All Writing Data"
   ]
  },
  {
   "cell_type": "code",
   "execution_count": null,
   "metadata": {},
   "outputs": [],
   "source": [
    "# Get all days data\n",
    "response = requests.get(f\"{BASE_URL}/api/competency/user/{writing_user_id}\")\n",
    "print_response(\"All Writing Data\", response)\n",
    "\n",
    "# Display formatted progress\n",
    "if response.status_code == 200:\n",
    "    result = response.json()\n",
    "    \n",
    "    print(\"\\n📈 WRITING PROGRESS SUMMARY\")\n",
    "    print(\"=\"*80)\n",
    "    print(f\"Total Days: {result['total_days_completed']}\")\n",
    "    print(\"\\nScore Progression:\")\n",
    "    print(f\"{'Day':<10} {'Grammar':<10} {'Vocabulary':<12} {'Coherence':<12} {'Mechanics':<12} {'Organization':<14} {'Overall':<10}\")\n",
    "    print(\"-\"*80)\n",
    "    \n",
    "    for day_data in result['progress_by_day']:\n",
    "        if \"writing_evaluation\" in day_data:\n",
    "            writing = day_data[\"writing_evaluation\"]\n",
    "            scores = writing['scores']\n",
    "            print(f\"{day_data['day_code']:<10} {scores['grammar']:<10} {scores['vocabulary']:<12} {scores['coherence']:<12} {scores['mechanics']:<12} {scores['organization']:<14} {writing['overall_score']:<10}\")"
   ]
  },
  {
   "cell_type": "markdown",
   "metadata": {},
   "source": [
    "---\n",
    "## Part 5: Test with Your Own Data\n",
    "---\n",
    "\n",
    "Use the cells below to test with your own custom data"
   ]
  },
  {
   "cell_type": "markdown",
   "metadata": {},
   "source": [
    "### Custom Speaking Test"
   ]
  },
  {
   "cell_type": "code",
   "execution_count": null,
   "metadata": {},
   "outputs": [],
   "source": [
    "# Test with your own data\n",
    "custom_user_id = str(uuid4())\n",
    "custom_day = \"day5\"\n",
    "\n",
    "custom_speaking = {\n",
    "    \"user_id\": custom_user_id,\n",
    "    \"session_id\": str(uuid4()),\n",
    "    \"day_code\": custom_day,\n",
    "    \"language\": \"english\",\n",
    "    \"user_level\": \"intermediate\",\n",
    "    \"total_turns\": 15,\n",
    "    \"scores\": {\"fluency\": 85, \"pronunciation\": 88, \"vocabulary\": 82, \"grammar\": 86},\n",
    "    \"strengths\": [\"Excellent fluency\"],\n",
    "    \"improvements\": [\"Minor grammar tweaks\"],\n",
    "    \"suggestions\": [\"Keep practicing\"],\n",
    "    \"conversation_summary\": \"Great conversation about travel\",\n",
    "    \"overall_score\": 85,\n",
    "    \"feedback_summary\": \"Excellent progress!\",\n",
    "    \"fluency_level\": \"advanced\",\n",
    "    \"vocabulary_range\": \"extensive\"\n",
    "}\n",
    "\n",
    "# Post the data\n",
    "response = requests.post(f\"{BASE_URL}/api/competency/speaking/save\", json=custom_speaking)\n",
    "print_response(\"Custom Speaking Test\", response)\n",
    "\n",
    "# Get the data back\n",
    "response = requests.get(f\"{BASE_URL}/api/competency/user/{custom_user_id}/day/{custom_day}\")\n",
    "print_response(f\"Retrieved Custom Speaking Data for {custom_day}\", response)"
   ]
  },
  {
   "cell_type": "markdown",
   "metadata": {},
   "source": [
    "### Custom Writing Test"
   ]
  },
  {
   "cell_type": "code",
   "execution_count": null,
   "metadata": {},
   "outputs": [],
   "source": [
    "# Test with your own data\n",
    "custom_user_id = \"test_user_\" + str(uuid4())[:8]\n",
    "custom_day = \"day5\"\n",
    "\n",
    "custom_writing = {\n",
    "    \"user_id\": custom_user_id,\n",
    "    \"day_code\": custom_day,\n",
    "    \"original_text\": \"This is my custom writing test. I am testing the competency tracking system.\",\n",
    "    \"language\": \"english\",\n",
    "    \"writing_type\": \"general\",\n",
    "    \"user_level\": \"intermediate\",\n",
    "    \"scores\": {\"grammar\": 85, \"vocabulary\": 80, \"coherence\": 88, \"mechanics\": 90, \"organization\": 86},\n",
    "    \"strengths\": [\"Clear writing\", \"Good organization\"],\n",
    "    \"improvements\": [\"Add more details\"],\n",
    "    \"suggestions\": [\"Practice daily\"],\n",
    "    \"overall_score\": 86,\n",
    "    \"task_type\": \"general\",\n",
    "    \"word_count\": 15,\n",
    "    \"task_description\": \"Custom test writing\"\n",
    "}\n",
    "\n",
    "# Post the data\n",
    "response = requests.post(f\"{BASE_URL}/api/competency/writing/save\", json=custom_writing)\n",
    "print_response(\"Custom Writing Test\", response)\n",
    "\n",
    "# Get the data back\n",
    "response = requests.get(f\"{BASE_URL}/api/competency/user/{custom_user_id}/day/{custom_day}\")\n",
    "print_response(f\"Retrieved Custom Writing Data for {custom_day}\", response)"
   ]
  },
  {
   "cell_type": "markdown",
   "metadata": {},
   "source": [
    "---\n",
    "## Summary\n",
    "---\n",
    "\n",
    "This notebook demonstrates:\n",
    "\n",
    "### ✅ Posting Evaluations\n",
    "- **Speaking**: Posted 3 days of evaluations with category scores (fluency, pronunciation, vocabulary, grammar)\n",
    "- **Writing**: Posted 3 days of evaluations with category scores (grammar, vocabulary, coherence, mechanics, organization)\n",
    "\n",
    "### ✅ Getting Data for Specific Day\n",
    "- Retrieved complete evaluation data for Day 2\n",
    "- Verified all category scores are returned\n",
    "- Displayed formatted views\n",
    "\n",
    "### ✅ Getting Data for All Days\n",
    "- Retrieved all 3 days of evaluations\n",
    "- Generated score progression tables\n",
    "- Showed improvement tracking\n",
    "\n",
    "### ✅ Custom Test Section\n",
    "- Provided template for testing with your own data\n",
    "- Shows POST and GET in the same cell\n",
    "- Easy to modify and reuse\n",
    "\n",
    "### API Endpoints Used:\n",
    "- `POST /api/competency/speaking/save` - Save speaking evaluation\n",
    "- `POST /api/competency/writing/save` - Save writing evaluation\n",
    "- `GET /api/competency/user/{user_id}/day/{day_code}` - Get specific day data\n",
    "- `GET /api/competency/user/{user_id}` - Get all days data"
   ]
  }
 ],
 "metadata": {
  "kernelspec": {
   "display_name": ".venv",
   "language": "python",
   "name": "python3"
  },
  "language_info": {
   "codemirror_mode": {
    "name": "ipython",
    "version": 3
   },
   "file_extension": ".py",
   "mimetype": "text/x-python",
   "name": "python",
   "nbconvert_exporter": "python",
   "pygments_lexer": "ipython3",
   "version": "3.11.0"
  }
 },
 "nbformat": 4,
 "nbformat_minor": 4
}
