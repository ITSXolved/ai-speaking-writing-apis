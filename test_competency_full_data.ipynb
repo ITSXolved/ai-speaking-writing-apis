{
 "cells": [
  {
   "cell_type": "markdown",
   "metadata": {},
   "source": [
    "# Competency Tracking - Full Data Test\n",
    "\n",
    "This notebook demonstrates:\n",
    "1. Posting speaking and writing evaluations with complete data including category scores\n",
    "2. Getting results for a specific day with all posted data\n",
    "3. Getting results for all days with complete evaluation data"
   ]
  },
  {
   "cell_type": "code",
   "execution_count": 1,
   "metadata": {},
   "outputs": [
    {
     "name": "stdout",
     "output_type": "stream",
     "text": [
      "Using User UUID: f2d240f0-6b42-4a5c-bd98-c42b4d457b06\n",
      "Using User ID Text: test_user_456\n",
      "Session IDs generated for 3 days\n"
     ]
    }
   ],
   "source": [
    "import requests\n",
    "import json\n",
    "from datetime import datetime\n",
    "import uuid\n",
    "\n",
    "# API base URL\n",
    "BASE_URL = \"http://localhost:8080/api/competency\"\n",
    "\n",
    "# Test user IDs (UUID format for speaking, text for writing)\n",
    "USER_UUID = str(uuid.uuid4())  # Generate a UUID for speaking evaluations\n",
    "USER_ID_TEXT = \"test_user_456\"  # Text ID for writing evaluations\n",
    "\n",
    "# Generate session IDs for each day\n",
    "SESSION_ID_DAY1 = str(uuid.uuid4())\n",
    "SESSION_ID_DAY2 = str(uuid.uuid4())\n",
    "SESSION_ID_DAY3 = str(uuid.uuid4())\n",
    "\n",
    "print(f\"Using User UUID: {USER_UUID}\")\n",
    "print(f\"Using User ID Text: {USER_ID_TEXT}\")\n",
    "print(f\"Session IDs generated for 3 days\")"
   ]
  },
  {
   "cell_type": "markdown",
   "metadata": {},
   "source": [
    "## 1. Post Speaking Evaluation for Day 1\n",
    "\n",
    "Including all category scores and detailed feedback"
   ]
  },
  {
   "cell_type": "code",
   "execution_count": 2,
   "metadata": {},
   "outputs": [
    {
     "name": "stdout",
     "output_type": "stream",
     "text": [
      "Day 1 Speaking Evaluation Posted:\n",
      "{\n",
      "  \"success\": true,\n",
      "  \"evaluation_id\": \"600d4ad6-e395-4f34-bd5d-0567f08bbc6a\",\n",
      "  \"day_code\": \"day1\",\n",
      "  \"overall_score\": 76,\n",
      "  \"message\": \"Speaking evaluation saved successfully\"\n",
      "}\n",
      "Status Code: 201\n"
     ]
    }
   ],
   "source": [
    "day1_speaking_data = {\n",
    "    \"user_id\": USER_UUID,\n",
    "    \"session_id\": SESSION_ID_DAY1,\n",
    "    \"day_code\": \"day1\",\n",
    "    \"language\": \"english\",\n",
    "    \"user_level\": \"intermediate\",\n",
    "    \"total_turns\": 10,\n",
    "    \"scores\": {\n",
    "        \"fluency\": 75,\n",
    "        \"pronunciation\": 80,\n",
    "        \"vocabulary\": 70,\n",
    "        \"grammar\": 78\n",
    "    },\n",
    "    \"overall_score\": 76,\n",
    "    \"strengths\": [\n",
    "        \"Good pronunciation clarity\",\n",
    "        \"Consistent speaking pace\"\n",
    "    ],\n",
    "    \"improvements\": [\n",
    "        \"Work on vocabulary variety\",\n",
    "        \"Practice fluency in longer sentences\"\n",
    "    ],\n",
    "    \"suggestions\": [\n",
    "        \"Read aloud for 10 minutes daily\",\n",
    "        \"Practice with shadowing technique\"\n",
    "    ],\n",
    "    \"conversation_summary\": \"Discussed daily routines and hobbies. Student showed good basic communication.\",\n",
    "    \"feedback_summary\": \"Solid foundation, focus on expanding vocabulary and fluency.\",\n",
    "    \"fluency_level\": \"intermediate\",\n",
    "    \"vocabulary_range\": \"basic\"\n",
    "}\n",
    "\n",
    "response = requests.post(\n",
    "    f\"{BASE_URL}/speaking/save\",\n",
    "    json=day1_speaking_data\n",
    ")\n",
    "\n",
    "print(\"Day 1 Speaking Evaluation Posted:\")\n",
    "print(json.dumps(response.json(), indent=2))\n",
    "print(f\"Status Code: {response.status_code}\")"
   ]
  },
  {
   "cell_type": "markdown",
   "metadata": {},
   "source": [
    "## 2. Post Writing Evaluation for Day 1"
   ]
  },
  {
   "cell_type": "code",
   "execution_count": 3,
   "metadata": {},
   "outputs": [
    {
     "name": "stdout",
     "output_type": "stream",
     "text": [
      "Day 1 Writing Evaluation Posted:\n",
      "{\n",
      "  \"error\": \"Validation error\",\n",
      "  \"detail\": null,\n",
      "  \"details\": [\n",
      "    {\n",
      "      \"type\": \"missing\",\n",
      "      \"message\": \"Field required\",\n",
      "      \"field\": \"body.improved_version\"\n",
      "    },\n",
      "    {\n",
      "      \"type\": \"missing\",\n",
      "      \"message\": \"Field required\",\n",
      "      \"field\": \"body.feedback_summary\"\n",
      "    }\n",
      "  ],\n",
      "  \"error_code\": null,\n",
      "  \"request_id\": null\n",
      "}\n",
      "Status Code: 422\n"
     ]
    }
   ],
   "source": [
    "day1_writing_data = {\n",
    "    \"user_id\": USER_ID_TEXT,\n",
    "    \"day_code\": \"day1\",\n",
    "    \"original_text\": \"My favorite hobby is reading. I enjoy reading books about history and science. Reading helps me learn new things and relax after work. I usually read for one hour every evening before bed.\",\n",
    "    \"language\": \"english\",\n",
    "    \"writing_type\": \"descriptive\",\n",
    "    \"user_level\": \"intermediate\",\n",
    "    \"scores\": {\n",
    "        \"grammar\": 72,\n",
    "        \"vocabulary\": 68,\n",
    "        \"coherence\": 75,\n",
    "        \"mechanics\": 80,\n",
    "        \"organization\": 70\n",
    "    },\n",
    "    \"overall_score\": 73,\n",
    "    \"strengths\": [\n",
    "        \"Good sentence structure\",\n",
    "        \"Clear organization\"\n",
    "    ],\n",
    "    \"improvements\": [\n",
    "        \"Use more varied vocabulary\",\n",
    "        \"Work on paragraph transitions\"\n",
    "    ],\n",
    "    \"suggestions\": [\n",
    "        \"Practice writing topic sentences\",\n",
    "        \"Study transition words and phrases\"\n",
    "    ],\n",
    "    \"task_type\": \"essay\",\n",
    "    \"word_count\": 250,\n",
    "    \"task_description\": \"Write about your favorite hobby\"\n",
    "}\n",
    "\n",
    "response = requests.post(\n",
    "    f\"{BASE_URL}/writing/save\",\n",
    "    json=day1_writing_data\n",
    ")\n",
    "\n",
    "print(\"Day 1 Writing Evaluation Posted:\")\n",
    "print(json.dumps(response.json(), indent=2))\n",
    "print(f\"Status Code: {response.status_code}\")"
   ]
  },
  {
   "cell_type": "markdown",
   "metadata": {},
   "source": [
    "## 3. Post Speaking Evaluation for Day 2"
   ]
  },
  {
   "cell_type": "code",
   "execution_count": 4,
   "metadata": {},
   "outputs": [
    {
     "name": "stdout",
     "output_type": "stream",
     "text": [
      "Day 2 Speaking Evaluation Posted:\n",
      "{\n",
      "  \"success\": true,\n",
      "  \"evaluation_id\": \"f93cf218-e338-4ebf-9376-fb4a61d234d8\",\n",
      "  \"day_code\": \"day2\",\n",
      "  \"overall_score\": 79,\n",
      "  \"message\": \"Speaking evaluation saved successfully\"\n",
      "}\n",
      "Status Code: 201\n"
     ]
    }
   ],
   "source": [
    "day2_speaking_data = {\n",
    "    \"user_id\": USER_UUID,\n",
    "    \"session_id\": SESSION_ID_DAY2,\n",
    "    \"day_code\": \"day2\",\n",
    "    \"language\": \"english\",\n",
    "    \"user_level\": \"intermediate\",\n",
    "    \"total_turns\": 12,\n",
    "    \"scores\": {\n",
    "        \"fluency\": 78,\n",
    "        \"pronunciation\": 82,\n",
    "        \"vocabulary\": 75,\n",
    "        \"grammar\": 80\n",
    "    },\n",
    "    \"overall_score\": 79,\n",
    "    \"strengths\": [\n",
    "        \"Improved vocabulary usage\",\n",
    "        \"Better fluency in responses\",\n",
    "        \"More confident delivery\"\n",
    "    ],\n",
    "    \"improvements\": [\n",
    "        \"Work on complex sentence structures\",\n",
    "        \"Continue vocabulary expansion\"\n",
    "    ],\n",
    "    \"suggestions\": [\n",
    "        \"Practice describing abstract concepts\",\n",
    "        \"Join conversation practice groups\"\n",
    "    ],\n",
    "    \"conversation_summary\": \"Discussed travel experiences and future plans. Student showed improvement.\",\n",
    "    \"feedback_summary\": \"Great progress! More confidence and better vocabulary usage.\",\n",
    "    \"fluency_level\": \"intermediate\",\n",
    "    \"vocabulary_range\": \"intermediate\"\n",
    "}\n",
    "\n",
    "response = requests.post(\n",
    "    f\"{BASE_URL}/speaking/save\",\n",
    "    json=day2_speaking_data\n",
    ")\n",
    "\n",
    "print(\"Day 2 Speaking Evaluation Posted:\")\n",
    "print(json.dumps(response.json(), indent=2))\n",
    "print(f\"Status Code: {response.status_code}\")"
   ]
  },
  {
   "cell_type": "markdown",
   "metadata": {},
   "source": [
    "## 4. Post Writing Evaluation for Day 2"
   ]
  },
  {
   "cell_type": "code",
   "execution_count": 6,
   "metadata": {},
   "outputs": [
    {
     "name": "stdout",
     "output_type": "stream",
     "text": [
      "Day 2 Writing Evaluation Posted:\n",
      "{\n",
      "  \"error\": \"Validation error\",\n",
      "  \"detail\": null,\n",
      "  \"details\": [\n",
      "    {\n",
      "      \"type\": \"missing\",\n",
      "      \"message\": \"Field required\",\n",
      "      \"field\": \"body.improved_version\"\n",
      "    },\n",
      "    {\n",
      "      \"type\": \"missing\",\n",
      "      \"message\": \"Field required\",\n",
      "      \"field\": \"body.feedback_summary\"\n",
      "    }\n",
      "  ],\n",
      "  \"error_code\": null,\n",
      "  \"request_id\": null\n",
      "}\n",
      "Status Code: 422\n"
     ]
    }
   ],
   "source": [
    "day2_writing_data = {\n",
    "    \"user_id\": USER_ID_TEXT,\n",
    "    \"day_code\": \"day2\",\n",
    "    \"original_text\": \"Remote work has become increasingly popular. On one hand, it offers flexibility and saves commuting time. On the other hand, it can lead to isolation and difficulty separating work from personal life. I believe with proper boundaries, remote work can be beneficial for both employees and employers.\",\n",
    "    \"language\": \"english\",\n",
    "    \"writing_type\": \"argumentative\",\n",
    "    \"user_level\": \"intermediate\",\n",
    "    \"scores\": {\n",
    "        \"grammar\": 76,\n",
    "        \"vocabulary\": 73,\n",
    "        \"coherence\": 78,\n",
    "        \"mechanics\": 82,\n",
    "        \"organization\": 75\n",
    "    },\n",
    "    \"overall_score\": 77,\n",
    "    \"strengths\": [\n",
    "        \"Better vocabulary variety\",\n",
    "        \"Improved transitions\",\n",
    "        \"Good grammar accuracy\"\n",
    "    ],\n",
    "    \"improvements\": [\n",
    "        \"Work on more complex structures\",\n",
    "        \"Expand argument development\"\n",
    "    ],\n",
    "    \"suggestions\": [\n",
    "        \"Practice persuasive writing\",\n",
    "        \"Study advanced connectors\"\n",
    "    ],\n",
    "    \"task_type\": \"argumentative\",\n",
    "    \"word_count\": 300,\n",
    "    \"task_description\": \"Argue for or against remote work\"\n",
    "}\n",
    "\n",
    "response = requests.post(\n",
    "    f\"{BASE_URL}/writing/save\",\n",
    "    json=day2_writing_data\n",
    ")\n",
    "\n",
    "print(\"Day 2 Writing Evaluation Posted:\")\n",
    "print(json.dumps(response.json(), indent=2))\n",
    "print(f\"Status Code: {response.status_code}\")"
   ]
  },
  {
   "cell_type": "markdown",
   "metadata": {},
   "source": [
    "## 5. Post Speaking Evaluation for Day 3"
   ]
  },
  {
   "cell_type": "code",
   "execution_count": null,
   "metadata": {},
   "outputs": [],
   "source": [
    "day3_speaking_data = {\n",
    "    \"user_id\": USER_UUID,\n",
    "    \"session_id\": SESSION_ID_DAY3,\n",
    "    \"day_code\": \"day3\",\n",
    "    \"language\": \"english\",\n",
    "    \"user_level\": \"upper_intermediate\",\n",
    "    \"total_turns\": 15,\n",
    "    \"scores\": {\n",
    "        \"fluency\": 82,\n",
    "        \"pronunciation\": 85,\n",
    "        \"vocabulary\": 80,\n",
    "        \"grammar\": 83\n",
    "    },\n",
    "    \"overall_score\": 83,\n",
    "    \"strengths\": [\n",
    "        \"Excellent fluency improvement\",\n",
    "        \"Rich vocabulary usage\",\n",
    "        \"Natural conversation flow\",\n",
    "        \"Strong grammar control\"\n",
    "    ],\n",
    "    \"improvements\": [\n",
    "        \"Fine-tune advanced grammar\",\n",
    "        \"Work on idiomatic expressions\"\n",
    "    ],\n",
    "    \"suggestions\": [\n",
    "        \"Watch English media without subtitles\",\n",
    "        \"Practice giving presentations\"\n",
    "    ],\n",
    "    \"conversation_summary\": \"Discussed current events and opinions. Student demonstrated strong communication skills.\",\n",
    "    \"feedback_summary\": \"Excellent progress! Ready for more advanced topics.\",\n",
    "    \"fluency_level\": \"upper_intermediate\",\n",
    "    \"vocabulary_range\": \"intermediate\"\n",
    "}\n",
    "\n",
    "response = requests.post(\n",
    "    f\"{BASE_URL}/speaking/save\",\n",
    "    json=day3_speaking_data\n",
    ")\n",
    "\n",
    "print(\"Day 3 Speaking Evaluation Posted:\")\n",
    "print(json.dumps(response.json(), indent=2))\n",
    "print(f\"Status Code: {response.status_code}\")"
   ]
  },
  {
   "cell_type": "markdown",
   "metadata": {},
   "source": [
    "## 6. Post Writing Evaluation for Day 3"
   ]
  },
  {
   "cell_type": "code",
   "execution_count": null,
   "metadata": {},
   "outputs": [],
   "source": [
    "day3_writing_data = {\n",
    "    \"user_id\": USER_ID_TEXT,\n",
    "    \"day_code\": \"day3\",\n",
    "    \"original_text\": \"Technology has revolutionized education in numerous ways. Digital platforms enable access to vast resources and facilitate personalized learning experiences. However, this transformation also presents challenges, including the digital divide and concerns about screen time. Educators must balance technological integration with traditional pedagogical approaches to maximize benefits while mitigating potential drawbacks.\",\n",
    "    \"language\": \"english\",\n",
    "    \"writing_type\": \"analytical\",\n",
    "    \"user_level\": \"upper_intermediate\",\n",
    "    \"scores\": {\n",
    "        \"grammar\": 80,\n",
    "        \"vocabulary\": 78,\n",
    "        \"coherence\": 82,\n",
    "        \"mechanics\": 85,\n",
    "        \"organization\": 80\n",
    "    },\n",
    "    \"overall_score\": 81,\n",
    "    \"strengths\": [\n",
    "        \"Excellent organization\",\n",
    "        \"Advanced vocabulary\",\n",
    "        \"Strong coherence\",\n",
    "        \"Professional tone\"\n",
    "    ],\n",
    "    \"improvements\": [\n",
    "        \"Experiment with varied sentence types\",\n",
    "        \"Develop stronger conclusions\"\n",
    "    ],\n",
    "    \"suggestions\": [\n",
    "        \"Study academic writing styles\",\n",
    "        \"Practice synthesizing multiple sources\"\n",
    "    ],\n",
    "    \"task_type\": \"analytical\",\n",
    "    \"word_count\": 350,\n",
    "    \"task_description\": \"Analyze the impact of technology on education\"\n",
    "}\n",
    "\n",
    "response = requests.post(\n",
    "    f\"{BASE_URL}/writing/save\",\n",
    "    json=day3_writing_data\n",
    ")\n",
    "\n",
    "print(\"Day 3 Writing Evaluation Posted:\")\n",
    "print(json.dumps(response.json(), indent=2))\n",
    "print(f\"Status Code: {response.status_code}\")"
   ]
  },
  {
   "cell_type": "markdown",
   "metadata": {},
   "source": [
    "## 7. Get Results for Specific Day (Day 2)\n",
    "\n",
    "This should return ALL posted data including category scores"
   ]
  },
  {
   "cell_type": "code",
   "execution_count": null,
   "metadata": {},
   "outputs": [],
   "source": [
    "# Get speaking results for day 2 (using UUID)\n",
    "response_speaking = requests.get(\n",
    "    f\"{BASE_URL}/user/{USER_UUID}/day/day2\"\n",
    ")\n",
    "\n",
    "print(\"=\"*80)\n",
    "print(\"SPEAKING RESULTS FOR DAY 2 - COMPLETE DATA\")\n",
    "print(\"=\"*80)\n",
    "print(json.dumps(response_speaking.json(), indent=2))\n",
    "print(f\"\\nStatus Code: {response_speaking.status_code}\")\n",
    "\n",
    "# Get writing results for day 2 (using text ID)\n",
    "response_writing = requests.get(\n",
    "    f\"{BASE_URL}/user/{USER_ID_TEXT}/day/day2\"\n",
    ")\n",
    "\n",
    "print(\"\\n\" + \"=\"*80)\n",
    "print(\"WRITING RESULTS FOR DAY 2 - COMPLETE DATA\")\n",
    "print(\"=\"*80)\n",
    "print(json.dumps(response_writing.json(), indent=2))\n",
    "print(f\"\\nStatus Code: {response_writing.status_code}\")"
   ]
  },
  {
   "cell_type": "markdown",
   "metadata": {},
   "source": [
    "## 8. Display Day 2 Results in Formatted View"
   ]
  },
  {
   "cell_type": "code",
   "execution_count": null,
   "metadata": {},
   "outputs": [],
   "source": [
    "print(\"=\"*80)\n",
    "print(\"DAY 2 - FORMATTED VIEW\")\n",
    "print(\"=\"*80)\n",
    "\n",
    "if response_speaking.status_code == 200:\n",
    "    data = response_speaking.json()\n",
    "    \n",
    "    if \"speaking_evaluation\" in data:\n",
    "        print(\"\\n📢 SPEAKING EVALUATION:\")\n",
    "        speaking = data[\"speaking_evaluation\"]\n",
    "        print(f\"  Overall Score: {speaking['overall_score']}\")\n",
    "        print(f\"  Category Scores:\")\n",
    "        for category, score in speaking['scores'].items():\n",
    "            print(f\"    - {category.title()}: {score}\")\n",
    "        print(f\"  Fluency Level: {speaking['fluency_level']}\")\n",
    "        print(f\"  Vocabulary Range: {speaking['vocabulary_range']}\")\n",
    "        print(f\"  Strengths: {', '.join(speaking['strengths'])}\")\n",
    "        print(f\"  Improvements: {', '.join(speaking['improvements'])}\")\n",
    "\n",
    "if response_writing.status_code == 200:\n",
    "    data = response_writing.json()\n",
    "    \n",
    "    if \"writing_evaluation\" in data:\n",
    "        print(\"\\n✍️  WRITING EVALUATION:\")\n",
    "        writing = data[\"writing_evaluation\"]\n",
    "        print(f\"  Overall Score: {writing['overall_score']}\")\n",
    "        print(f\"  Category Scores:\")\n",
    "        for category, score in writing['scores'].items():\n",
    "            print(f\"    - {category.title()}: {score}\")\n",
    "        print(f\"  Task Type: {writing.get('task_type', 'N/A')}\")\n",
    "        print(f\"  Word Count: {writing.get('word_count', 'N/A')}\")\n",
    "        print(f\"  Strengths: {', '.join(writing['strengths'])}\")\n",
    "        print(f\"  Improvements: {', '.join(writing['improvements'])}\")"
   ]
  },
  {
   "cell_type": "markdown",
   "metadata": {},
   "source": [
    "## 9. Get Results for ALL Days (Speaking)\n",
    "\n",
    "This should return complete data for all available days"
   ]
  },
  {
   "cell_type": "code",
   "execution_count": null,
   "metadata": {},
   "outputs": [],
   "source": [
    "response = requests.get(\n",
    "    f\"{BASE_URL}/user/{USER_UUID}\"\n",
    ")\n",
    "\n",
    "print(\"=\"*80)\n",
    "print(\"SPEAKING RESULTS FOR ALL DAYS - COMPLETE DATA\")\n",
    "print(\"=\"*80)\n",
    "print(json.dumps(response.json(), indent=2))\n",
    "print(f\"\\nStatus Code: {response.status_code}\")"
   ]
  },
  {
   "cell_type": "markdown",
   "metadata": {},
   "source": [
    "## 10. Get Results for ALL Days (Writing)"
   ]
  },
  {
   "cell_type": "code",
   "execution_count": null,
   "metadata": {},
   "outputs": [],
   "source": [
    "response = requests.get(\n",
    "    f\"{BASE_URL}/user/{USER_ID_TEXT}\"\n",
    ")\n",
    "\n",
    "print(\"=\"*80)\n",
    "print(\"WRITING RESULTS FOR ALL DAYS - COMPLETE DATA\")\n",
    "print(\"=\"*80)\n",
    "print(json.dumps(response.json(), indent=2))\n",
    "print(f\"\\nStatus Code: {response.status_code}\")"
   ]
  },
  {
   "cell_type": "markdown",
   "metadata": {},
   "source": [
    "## 11. Display All Days in Formatted View (Speaking)"
   ]
  },
  {
   "cell_type": "code",
   "execution_count": null,
   "metadata": {},
   "outputs": [],
   "source": [
    "response = requests.get(f\"{BASE_URL}/user/{USER_UUID}\")\n",
    "\n",
    "if response.status_code == 200:\n",
    "    result = response.json()\n",
    "    \n",
    "    print(\"=\"*80)\n",
    "    print(f\"SPEAKING PROGRESS OVERVIEW FOR USER: {result['user_id']}\")\n",
    "    print(\"=\"*80)\n",
    "    print(f\"Total Days Completed: {result['total_days_completed']}\")\n",
    "    \n",
    "    for day_data in result['progress_by_day']:\n",
    "        print(\"\\n\" + \"=\"*80)\n",
    "        print(f\"📅 {day_data['day_code'].upper()}\")\n",
    "        print(\"=\"*80)\n",
    "        \n",
    "        if \"speaking_evaluation\" in day_data:\n",
    "            print(\"\\n📢 SPEAKING EVALUATION:\")\n",
    "            speaking = day_data[\"speaking_evaluation\"]\n",
    "            print(f\"  Overall Score: {speaking['overall_score']}\")\n",
    "            print(f\"  Category Scores:\")\n",
    "            for category, score in speaking['scores'].items():\n",
    "                print(f\"    - {category.title()}: {score}\")\n",
    "            print(f\"  Fluency Level: {speaking['fluency_level']}\")\n",
    "            print(f\"  Vocabulary Range: {speaking['vocabulary_range']}\")\n",
    "            print(f\"  Total Turns: {speaking.get('total_turns', 'N/A')}\")\n",
    "            print(f\"  Strengths:\")\n",
    "            for strength in speaking['strengths']:\n",
    "                print(f\"    ✓ {strength}\")\n",
    "            print(f\"  Areas to Improve:\")\n",
    "            for improvement in speaking['improvements']:\n",
    "                print(f\"    → {improvement}\")"
   ]
  },
  {
   "cell_type": "markdown",
   "metadata": {},
   "source": [
    "## 12. Display All Days in Formatted View (Writing)"
   ]
  },
  {
   "cell_type": "code",
   "execution_count": null,
   "metadata": {},
   "outputs": [],
   "source": [
    "response = requests.get(f\"{BASE_URL}/user/{USER_ID_TEXT}\")\n",
    "\n",
    "if response.status_code == 200:\n",
    "    result = response.json()\n",
    "    \n",
    "    print(\"=\"*80)\n",
    "    print(f\"WRITING PROGRESS OVERVIEW FOR USER: {result['user_id']}\")\n",
    "    print(\"=\"*80)\n",
    "    print(f\"Total Days Completed: {result['total_days_completed']}\")\n",
    "    \n",
    "    for day_data in result['progress_by_day']:\n",
    "        print(\"\\n\" + \"=\"*80)\n",
    "        print(f\"📅 {day_data['day_code'].upper()}\")\n",
    "        print(\"=\"*80)\n",
    "        \n",
    "        if \"writing_evaluation\" in day_data:\n",
    "            print(\"\\n✍️  WRITING EVALUATION:\")\n",
    "            writing = day_data[\"writing_evaluation\"]\n",
    "            print(f\"  Overall Score: {writing['overall_score']}\")\n",
    "            print(f\"  Category Scores:\")\n",
    "            for category, score in writing['scores'].items():\n",
    "                print(f\"    - {category.title()}: {score}\")\n",
    "            print(f\"  Task Type: {writing.get('task_type', 'N/A')}\")\n",
    "            print(f\"  Word Count: {writing.get('word_count', 'N/A')}\")\n",
    "            print(f\"  Strengths:\")\n",
    "            for strength in writing['strengths']:\n",
    "                print(f\"    ✓ {strength}\")\n",
    "            print(f\"  Areas to Improve:\")\n",
    "            for improvement in writing['improvements']:\n",
    "                print(f\"    → {improvement}\")"
   ]
  },
  {
   "cell_type": "markdown",
   "metadata": {},
   "source": [
    "## 13. Progress Tracking - Score Comparison Across Days (Speaking)"
   ]
  },
  {
   "cell_type": "code",
   "execution_count": null,
   "metadata": {},
   "outputs": [],
   "source": [
    "response = requests.get(f\"{BASE_URL}/user/{USER_UUID}\")\n",
    "\n",
    "if response.status_code == 200:\n",
    "    result = response.json()\n",
    "    \n",
    "    print(\"=\"*80)\n",
    "    print(\"SPEAKING SCORES PROGRESSION\")\n",
    "    print(\"=\"*80)\n",
    "    print(f\"{'Day':<10} {'Fluency':<12} {'Pronunciation':<15} {'Vocabulary':<12} {'Grammar':<10} {'Overall':<10}\")\n",
    "    print(\"-\"*80)\n",
    "    \n",
    "    for day_data in result['progress_by_day']:\n",
    "        if \"speaking_evaluation\" in day_data:\n",
    "            speaking = day_data[\"speaking_evaluation\"]\n",
    "            scores = speaking['scores']\n",
    "            print(f\"{day_data['day_code']:<10} {scores.get('fluency', 'N/A'):<12} {scores.get('pronunciation', 'N/A'):<15} {scores.get('vocabulary', 'N/A'):<12} {scores.get('grammar', 'N/A'):<10} {speaking['overall_score']:<10}\")"
   ]
  },
  {
   "cell_type": "markdown",
   "metadata": {},
   "source": [
    "## 14. Progress Tracking - Score Comparison Across Days (Writing)"
   ]
  },
  {
   "cell_type": "code",
   "execution_count": null,
   "metadata": {},
   "outputs": [],
   "source": [
    "response = requests.get(f\"{BASE_URL}/user/{USER_ID_TEXT}\")\n",
    "\n",
    "if response.status_code == 200:\n",
    "    result = response.json()\n",
    "    \n",
    "    print(\"=\"*80)\n",
    "    print(\"WRITING SCORES PROGRESSION\")\n",
    "    print(\"=\"*80)\n",
    "    print(f\"{'Day':<10} {'Grammar':<10} {'Vocabulary':<12} {'Coherence':<12} {'Mechanics':<12} {'Organization':<14} {'Overall':<10}\")\n",
    "    print(\"-\"*80)\n",
    "    \n",
    "    for day_data in result['progress_by_day']:\n",
    "        if \"writing_evaluation\" in day_data:\n",
    "            writing = day_data[\"writing_evaluation\"]\n",
    "            scores = writing['scores']\n",
    "            print(f\"{day_data['day_code']:<10} {scores.get('grammar', 'N/A'):<10} {scores.get('vocabulary', 'N/A'):<12} {scores.get('coherence', 'N/A'):<12} {scores.get('mechanics', 'N/A'):<12} {scores.get('organization', 'N/A'):<14} {writing['overall_score']:<10}\")"
   ]
  },
  {
   "cell_type": "markdown",
   "metadata": {},
   "source": [
    "## Summary\n",
    "\n",
    "This notebook demonstrates:\n",
    "\n",
    "1. ✅ **Posting Complete Data**: Posted evaluations for 3 days with:\n",
    "   - **Speaking**: Category scores (fluency, pronunciation, vocabulary, grammar), session ID, total turns, overall score, strengths, improvements, suggestions, conversation summary, feedback summary, fluency level, vocabulary range\n",
    "   - **Writing**: Category scores (grammar, vocabulary, coherence, mechanics, organization), original text, task type, word count, overall score, strengths, improvements, suggestions, task description\n",
    "\n",
    "2. ✅ **Getting Data for Specific Day**: Retrieved all posted data for Day 2 including:\n",
    "   - Complete speaking evaluation with all fields and category scores\n",
    "   - Complete writing evaluation with all fields and category scores\n",
    "\n",
    "3. ✅ **Getting Data for All Days**: Retrieved complete data for all 3 days including:\n",
    "   - All evaluations with full details\n",
    "   - Category scores for each evaluation\n",
    "   - Progress tracking across days\n",
    "\n",
    "4. ✅ **Progress Visualization**: Displayed score progression across days showing improvement trends\n",
    "\n",
    "### Important Notes:\n",
    "- **Speaking evaluations** use UUID format for user_id and require session_id and total_turns\n",
    "- **Writing evaluations** use text format for user_id\n",
    "- All category scores are preserved and returned in GET requests\n",
    "- Data can be retrieved by specific day code or for all available days"
   ]
  }
 ],
 "metadata": {
  "kernelspec": {
   "display_name": ".venv",
   "language": "python",
   "name": "python3"
  },
  "language_info": {
   "codemirror_mode": {
    "name": "ipython",
    "version": 3
   },
   "file_extension": ".py",
   "mimetype": "text/x-python",
   "name": "python",
   "nbconvert_exporter": "python",
   "pygments_lexer": "ipython3",
   "version": "3.11.0"
  }
 },
 "nbformat": 4,
 "nbformat_minor": 4
}
